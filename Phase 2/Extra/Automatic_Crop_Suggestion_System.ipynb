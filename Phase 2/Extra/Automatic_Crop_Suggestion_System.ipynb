{
  "nbformat": 4,
  "nbformat_minor": 0,
  "metadata": {
    "colab": {
      "name": "Automatic Crop Suggestion System.ipynb",
      "provenance": [],
      "collapsed_sections": [],
      "toc_visible": true
    },
    "kernelspec": {
      "name": "python3",
      "display_name": "Python 3"
    },
    "language_info": {
      "name": "python"
    }
  },
  "cells": [
    {
      "cell_type": "markdown",
      "metadata": {
        "id": "sI0XvkKNZ_4W"
      },
      "source": [
        "## **CROP** **SUGGESTION** **SYSTEM** \n",
        "(Real time data Collected for Tamil Nadu Districts for Data Driven Decision Making)\n",
        "\n",
        "The Following Districts are:\n",
        "*   Kanchipurram\n",
        "*   Vellore\n",
        "*   Tiruvanamalai\n",
        "*   Vilupurram\n",
        "*   Krishnagri\n",
        "*   Dharmapuri\n",
        "*   Salem\n",
        "*   Erode\n",
        "*   Coimbatore\n",
        "\n",
        "\n",
        "\n",
        "\n",
        "\n",
        "\n"
      ]
    },
    {
      "cell_type": "markdown",
      "metadata": {
        "id": "60KQlO6IacTT"
      },
      "source": [
        " To know current month and season"
      ]
    },
    {
      "cell_type": "code",
      "metadata": {
        "id": "Le74bjOUjcTZ"
      },
      "source": [
        "from google.colab import drive\n",
        "drive.mount('/content/drive')"
      ],
      "execution_count": null,
      "outputs": []
    },
    {
      "cell_type": "code",
      "metadata": {
        "id": "nGn7uM-DZ5wu"
      },
      "source": [
        "# importing the date class datetime module\n",
        "from datetime import date\n",
        "# creating the date object of today's date\n",
        "current_date = date.today() \n",
        "# printing the current date\n",
        "print(\"Current date: \", current_date)\n",
        "# extracting the current year, month and day\n",
        "print(\"Current year:\", current_date.year)\n",
        "month = current_date.month\n",
        "print(\"Current month:\", month)\n"
      ],
      "execution_count": null,
      "outputs": []
    },
    {
      "cell_type": "markdown",
      "metadata": {
        "id": "F5Tb1QdJZ9Q6"
      },
      "source": [
        "**Finding** **Season** **using** **given** **month**"
      ]
    },
    {
      "cell_type": "markdown",
      "metadata": {
        "id": "e-2jjis-fCxc"
      },
      "source": [
        "Six Seasons of Tamil Nadu are ,\n",
        "\n",
        "Ilavenil /KOdai Kaalam (இளவேனில்காலம்/கோடைகாலம்) Tamil Months : Chithirai , Vaikasi [Apr 15th - Jun 14th ]\n",
        "\n",
        "Mudhuvenil Kaalam (முதுவேனில் காலம்) Tamil Months : Aani , Aadi [Jun 15th - Aug 14th]\n",
        "\n",
        "Kaar / Mazhai Kaalam (கார்/மழை காலம்) Tamil Months : Aavani , Purattasi [Aug 15th - Oct 14th]\n",
        "\n",
        "Koothir / Kulir Kaalam (கூதிர்/குளிர் காலம்) Tamil Months : Aippasi , Karthigai [Oct 15th - Dec 14th]\n",
        "\n",
        "Munpani Kaalam (முன்பனி காலம்) Tamil Months : Margazhi , Thai [Dec 15th - Feb 14th]\n",
        "\n",
        "Pinpani Kaalam (பின்பனி காலம்) Tamil Months : Maasi , Panguni [Feb 15th - Apr 14th]"
      ]
    },
    {
      "cell_type": "code",
      "metadata": {
        "id": "pF8f1WHpbftd"
      },
      "source": [
        "season=\"\"\n",
        "if(month>=3 and month<=4):\n",
        "  season=\"Pinpani Kaalam\"\n",
        "elif(month>=5 and month<=6):\n",
        "  season=\"Kodai Kaalam\"\n",
        "elif(month>=7 and month<=8):\n",
        "  season=\"Mudhuvenil Kaalam\"\n",
        "elif(month>=9 and month<=10):\n",
        "  season=\"Mazhai Kaalam\"\n",
        "elif(month>=11 and month<=12):\n",
        "  season=\"Kulir Kaalam\"\n",
        "elif(month>=1 and month<=2):\n",
        "  season=\"Munpani Kaalam\"\n",
        "\n",
        "print(\"Season(in Tamil) = \",season)\n"
      ],
      "execution_count": null,
      "outputs": []
    },
    {
      "cell_type": "markdown",
      "metadata": {
        "id": "mu6xUTpDebB4"
      },
      "source": [
        "Finding Location using Latitude & Longitude(GPS DEVICE)"
      ]
    },
    {
      "cell_type": "code",
      "metadata": {
        "id": "YfU7CGhldxP_"
      },
      "source": [
        "# Import module\n",
        "from geopy.geocoders import Nominatim\n",
        "\n",
        "# Initialize Nominatim API\n",
        "geolocator = Nominatim(user_agent=\"geoapiExercises\")\n",
        "\n",
        "# Assign Latitude & Longitude\n",
        "Latitude = \"11.6643\"\n",
        "Longitude = \"78.1460\"\n",
        "\n",
        "# Dsiaplying Latitude and Longitude\n",
        "print(\"Latitude: \", Latitude)\n",
        "print(\"Longitude: \", Longitude)\n",
        "\n",
        "# Get location with geocode\n",
        "location = geolocator.geocode(Latitude+\",\"+Longitude)\n",
        "\n",
        "# Dsiplay location\n",
        "print(\"\\nLocation of the given Latitude and Longitude:\")\n",
        "print(location)"
      ],
      "execution_count": null,
      "outputs": []
    },
    {
      "cell_type": "markdown",
      "metadata": {
        "id": "ZY6E8SHEfVXN"
      },
      "source": [
        "Current Weather Condition After Accessing Location"
      ]
    },
    {
      "cell_type": "code",
      "metadata": {
        "id": "WOQOGU4Vehmc"
      },
      "source": [
        "import requests, json \n",
        "\n",
        "api_key = \"375dd37a1b8ee0b0ba7f6ac9841c313a\"\n",
        "base_url = \"http://api.openweathermap.org/data/2.5/weather?\"\n",
        "\n",
        "Place = input(\"Enter city name : \") \n",
        "complete_url = base_url + \"appid=\" + api_key + \"&q=\" + Place\n",
        "\n",
        "response = requests.get(complete_url) \n",
        "x = response.json() \n",
        "\n",
        "if x[\"cod\"] != \"404\": \n",
        "    y = x[\"main\"] \n",
        "    \n",
        "    current_temp = y[\"temp\"] \n",
        "    current_press = y[\"pressure\"]\n",
        "    current_humid = y[\"humidity\"]\n",
        "    \n",
        "    z = x[\"weather\"]\n",
        "    weather_desc = z[0][\"description\"]\n",
        "    print(\"\\nTemperature (in kelvin unit) = \",str(current_temp)) \n",
        "    print(\"\\nAtmospheric pressure (in hPa unit) = \",str(current_press))\n",
        "    print(\"\\nHumidity (in percentage) = \",str(current_humid))\n",
        "    print(\"\\nDescription = \",str(weather_desc))\n",
        "else: \n",
        "    print(\"\\nCity Not Found !\")"
      ],
      "execution_count": null,
      "outputs": []
    },
    {
      "cell_type": "markdown",
      "metadata": {
        "id": "Sdr2Kzz1fuWD"
      },
      "source": [
        "We have collected all inputs , like present time and season , location , present weather condition ,           \n",
        "\n",
        "By using Location , we will process past data of that particular location.\n",
        "like weather condition , Rainfall(in mm)-month wise , past crops grown and so on."
      ]
    },
    {
      "cell_type": "markdown",
      "metadata": {
        "id": "ipwc4tEagqYd"
      },
      "source": [
        "Processing Past Data"
      ]
    },
    {
      "cell_type": "code",
      "metadata": {
        "id": "Z11pCU-Dg_ns"
      },
      "source": [
        "import pandas as pd\n",
        "\n",
        "sopa = pd.read_csv(\"/content/placeSoil.csv\")\n",
        "rapa = pd.read_csv(\"/content/rainfall.csv\")\n",
        "soco = pd.read_csv(\"/content/cropSoil.csv\")"
      ],
      "execution_count": null,
      "outputs": []
    },
    {
      "cell_type": "code",
      "metadata": {
        "id": "czs_8G7Dfd-E"
      },
      "source": [
        "import matplotlib.pyplot as plt\n",
        "import numpy as np\n",
        "import pylab\n",
        "from sklearn import preprocessing\n",
        "from sklearn.tree import DecisionTreeClassifier\n",
        "from sklearn.linear_model import LinearRegression"
      ],
      "execution_count": null,
      "outputs": []
    },
    {
      "cell_type": "code",
      "metadata": {
        "id": "zeiPLuZsh97b"
      },
      "source": [
        "sopa.head()"
      ],
      "execution_count": null,
      "outputs": []
    },
    {
      "cell_type": "code",
      "metadata": {
        "id": "1q5Mk7gFh-gp"
      },
      "source": [
        "rapa.head()"
      ],
      "execution_count": null,
      "outputs": []
    },
    {
      "cell_type": "code",
      "metadata": {
        "id": "yrU7oqzEiBul"
      },
      "source": [
        "soco.head()"
      ],
      "execution_count": null,
      "outputs": []
    },
    {
      "cell_type": "markdown",
      "metadata": {
        "id": "pk513cP7miCG"
      },
      "source": [
        "Now, Applying Algorithms"
      ]
    },
    {
      "cell_type": "markdown",
      "metadata": {
        "id": "FGZ2ipQ6-hgv"
      },
      "source": [
        "###Decision Tree Classsifier"
      ]
    },
    {
      "cell_type": "code",
      "metadata": {
        "id": "5pyXLF_5mfdn"
      },
      "source": [
        "location = Place"
      ],
      "execution_count": null,
      "outputs": []
    },
    {
      "cell_type": "code",
      "metadata": {
        "id": "fKVLlcCLKXJs"
      },
      "source": [
        "for i in range(len(sopa[\"PLACES\"])):\n",
        "    if(sopa[\"PLACES\"][i]==Place):\n",
        "        district = sopa[\"DISTRICT\"][i]\n",
        "        break"
      ],
      "execution_count": null,
      "outputs": []
    },
    {
      "cell_type": "code",
      "metadata": {
        "id": "oV3t9NVPiFFi"
      },
      "source": [
        "le = preprocessing.LabelEncoder()\n",
        "x1 = sopa[\"PLACES\"]\n",
        "y1 = sopa[\"DISTRICT\"]\n",
        "x = le.fit_transform(x1)\n",
        "y = le.fit_transform(y1)\n",
        "sopa1 = sopa.merge(pd.DataFrame({'PLACE_C':x,'DISTRICT_C':y}),right_index=True,left_index = True)\n",
        "ordinary=sopa1.query('PLACES == @location and DISTRICT == @district')\n",
        "d=ordinary[['PLACE_C','DISTRICT_C']].values\n",
        "sopa1.head()"
      ],
      "execution_count": null,
      "outputs": []
    },
    {
      "cell_type": "code",
      "metadata": {
        "id": "l4nLNTHVHAd5"
      },
      "source": [
        "X = sopa1[['PLACE_C','DISTRICT_C']]\n",
        "Y = sopa1[['Black Soils','Red Soil','Sandy Clay Loam','Lateritic soil','Calcareous Soil','Sandy Loam','Loamy sand','Brown soil','Clay loam','Alluvial soil','Brown Soil Non Calcareous','Red Calcareous']]"
      ],
      "execution_count": null,
      "outputs": []
    },
    {
      "cell_type": "code",
      "metadata": {
        "id": "wYrvM3M2jzU6"
      },
      "source": [
        "from sklearn.model_selection import train_test_split\n",
        "x_train, x_test, y_train, y_test = train_test_split(X, Y, test_size=0.15, random_state=333)"
      ],
      "execution_count": null,
      "outputs": []
    },
    {
      "cell_type": "code",
      "metadata": {
        "id": "wSS3vLfBHHgU"
      },
      "source": [
        "classifier = DecisionTreeClassifier()\n",
        "classifier.fit(x_train,y_train)"
      ],
      "execution_count": null,
      "outputs": []
    },
    {
      "cell_type": "code",
      "metadata": {
        "id": "WJLepgTDHKTi"
      },
      "source": [
        "predTree=classifier.predict(x_test)\n",
        "predTree"
      ],
      "execution_count": null,
      "outputs": []
    },
    {
      "cell_type": "code",
      "metadata": {
        "id": "-QK0gGP4a_At"
      },
      "source": [
        "print (predTree [0:5])\n",
        "print (y_test [0:5])"
      ],
      "execution_count": null,
      "outputs": []
    },
    {
      "cell_type": "code",
      "metadata": {
        "id": "AalpbKrLkIin"
      },
      "source": [
        "from sklearn import metrics\n",
        "print(\"DecisionTrees's Accuracy: \", metrics.accuracy_score(y_test, predTree))"
      ],
      "execution_count": null,
      "outputs": []
    },
    {
      "cell_type": "code",
      "metadata": {
        "id": "nl-HSTsrWHrL"
      },
      "source": [
        "print(Place)"
      ],
      "execution_count": null,
      "outputs": []
    },
    {
      "cell_type": "code",
      "metadata": {
        "id": "U_9jQZW2WqGi"
      },
      "source": [
        "for i in range(len(sopa[\"PLACES\"])):\n",
        "    if(sopa[\"PLACES\"][i]==Place):\n",
        "        break"
      ],
      "execution_count": null,
      "outputs": []
    },
    {
      "cell_type": "code",
      "metadata": {
        "id": "NL1lZDo3aqL9"
      },
      "source": [
        "place_no=i"
      ],
      "execution_count": null,
      "outputs": []
    },
    {
      "cell_type": "code",
      "metadata": {
        "id": "Eg8TQQLgawZ6"
      },
      "source": [
        "soil=['Black Soils','Red Soil','Sandy Clay Loam','Lateritic soil','Calcareous Soil','Sandy Loam','Loamy sand','Brown soil','Clay loam','Alluvial soil','Brown Soil Non Calcareous','Red Calcareous']"
      ],
      "execution_count": null,
      "outputs": []
    },
    {
      "cell_type": "code",
      "metadata": {
        "id": "FI47AMTQa01r"
      },
      "source": [
        "soil_ava=[]"
      ],
      "execution_count": null,
      "outputs": []
    },
    {
      "cell_type": "code",
      "metadata": {
        "id": "wB-VTpAXa6P-"
      },
      "source": [
        "for i in range(len(soil)):\n",
        "    if(sopa[soil[i]][place_no]==1):\n",
        "        soil_ava.append(soil[i])"
      ],
      "execution_count": null,
      "outputs": []
    },
    {
      "cell_type": "code",
      "metadata": {
        "id": "w5BZvjLibLIz"
      },
      "source": [
        "print('The soil type present in {} is/are {}'.format(Place, soil_ava))"
      ],
      "execution_count": null,
      "outputs": []
    },
    {
      "cell_type": "markdown",
      "metadata": {
        "id": "u3tJABZMcws2"
      },
      "source": [
        "Now, Finding Suitable Crops Using Soil type"
      ]
    },
    {
      "cell_type": "code",
      "metadata": {
        "id": "s8VKd3WGbSNv"
      },
      "source": [
        "for i in range(len(soco[\"SOIL TYPE\"])):\n",
        "    if(soco[\"SOIL TYPE\"][i]==soil_ava[0]):\n",
        "        break"
      ],
      "execution_count": null,
      "outputs": []
    },
    {
      "cell_type": "code",
      "metadata": {
        "id": "zZoPdS1JdMXe"
      },
      "source": [
        "soil_no=i"
      ],
      "execution_count": null,
      "outputs": []
    },
    {
      "cell_type": "code",
      "metadata": {
        "id": "Br9G-kwrdStk"
      },
      "source": [
        "crop=['Sugarcane','Wheat','Jowar','Citrus fruits','Millets','Corn','Ragi','Groundnut']"
      ],
      "execution_count": null,
      "outputs": []
    },
    {
      "cell_type": "code",
      "metadata": {
        "id": "m8hn08wcdXdv"
      },
      "source": [
        "crop_ava=[]"
      ],
      "execution_count": null,
      "outputs": []
    },
    {
      "cell_type": "code",
      "metadata": {
        "id": "hYf6RNxsde5z"
      },
      "source": [
        "for l in range(len(soil_ava)):\n",
        "    for i in range(len(soil)):\n",
        "        if(sopa[soil[i]][place_no]==1):\n",
        "            soil_ava.append(soil[i])\n",
        "    for j in range(len(crop)):\n",
        "        if(soco[crop[j]][soil_no]==1):\n",
        "            crop_ava.append(crop[j])"
      ],
      "execution_count": null,
      "outputs": []
    },
    {
      "cell_type": "code",
      "metadata": {
        "id": "P4nO9HfQdhbF"
      },
      "source": [
        "set(crop_ava)"
      ],
      "execution_count": null,
      "outputs": []
    },
    {
      "cell_type": "code",
      "metadata": {
        "id": "iNGTh6YVd45K"
      },
      "source": [
        "print('The suitable crops in for soil type {} is/are {}'.format(soil_ava,crop_ava))"
      ],
      "execution_count": null,
      "outputs": []
    },
    {
      "cell_type": "code",
      "metadata": {
        "id": "e7IH-yafLO-y"
      },
      "source": [
        ""
      ],
      "execution_count": null,
      "outputs": []
    }
  ]
}